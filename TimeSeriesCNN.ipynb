{
  "nbformat": 4,
  "nbformat_minor": 0,
  "metadata": {
    "colab": {
      "name": "TimeSeriesCNN.ipynb",
      "version": "0.3.2",
      "provenance": [],
      "collapsed_sections": [],
      "include_colab_link": true
    },
    "kernelspec": {
      "name": "python3",
      "display_name": "Python 3"
    },
    "accelerator": "GPU"
  },
  "cells": [
    {
      "cell_type": "markdown",
      "metadata": {
        "id": "view-in-github",
        "colab_type": "text"
      },
      "source": [
        "<a href=\"https://colab.research.google.com/github/Jiuminglu/machine_learning/blob/master/TimeSeriesCNN.ipynb\" target=\"_parent\"><img src=\"https://colab.research.google.com/assets/colab-badge.svg\" alt=\"Open In Colab\"/></a>"
      ]
    },
    {
      "metadata": {
        "id": "Yh5vojLad3a3",
        "colab_type": "code",
        "colab": {}
      },
      "cell_type": "code",
      "source": [
        "import numpy as np\n",
        "import tensorflow as tf\n",
        "import matplotlib.pyplot as plt"
      ],
      "execution_count": 0,
      "outputs": []
    },
    {
      "metadata": {
        "id": "ilD4Vbg1LGkv",
        "colab_type": "code",
        "colab": {}
      },
      "cell_type": "code",
      "source": [
        ""
      ],
      "execution_count": 0,
      "outputs": []
    },
    {
      "metadata": {
        "id": "5rJ8A_BXHDl2",
        "colab_type": "text"
      },
      "cell_type": "markdown",
      "source": [
        "## Generate Sample Test Data"
      ]
    },
    {
      "metadata": {
        "id": "Ny2gSs0yeLSW",
        "colab_type": "code",
        "outputId": "10b4e415-55fa-4859-dcbc-9fae58944eba",
        "colab": {
          "base_uri": "https://localhost:8080/",
          "height": 381
        }
      },
      "cell_type": "code",
      "source": [
        "X = np.linspace(0, 15, 9000)\n",
        "y1 = np.sin(X)\n",
        "y2 = np.sin(2 * X)\n",
        "y3 = np.sin(3 * X)\n",
        "Y = y1 + y2 + y3\n",
        "\n",
        "prop   = 0.8\n",
        "amount = int(prop * len(X))\n",
        "\n",
        "train_X = X[:amount]\n",
        "train_Y = Y[:amount]\n",
        "test_X  = X[amount:]\n",
        "test_Y  = Y[amount:]\n",
        "\n",
        "print(len(train_X))\n",
        "print(len(test_X))\n",
        "\n",
        "\n",
        "plt.plot(train_X, train_Y)\n",
        "plt.show()"
      ],
      "execution_count": 0,
      "outputs": [
        {
          "output_type": "stream",
          "text": [
            "7200\n",
            "1800\n"
          ],
          "name": "stdout"
        },
        {
          "output_type": "display_data",
          "data": {
            "image/png": "[encoded data removed]",
            "text/plain": [
              "<Figure size 576x396 with 1 Axes>"
            ]
          },
          "metadata": {
            "tags": []
          }
        }
      ]
    },
    {
      "metadata": {
        "id": "oYB24F5X-K9w",
        "colab_type": "text"
      },
      "cell_type": "markdown",
      "source": [
        "## Model"
      ]
    },
    {
      "metadata": {
        "id": "-8t7QrceeWbn",
        "colab_type": "code",
        "colab": {}
      },
      "cell_type": "code",
      "source": [
        "BATCH_SIZE = len(test_X)\n",
        "SEQ_LENGTH = 16\n",
        "\n",
        "\n",
        "input_x     = tf.placeholder(dtype=tf.float32, shape=[BATCH_SIZE, SEQ_LENGTH])\n",
        "input_layer = tf.reshape(input_x, shape=(BATCH_SIZE, -1, 2))\n",
        "output_y    = tf.placeholder(dtype=tf.float32, shape=[BATCH_SIZE, 1])\n",
        "\n",
        "cnn1 = tf.layers.conv1d(inputs=input_layer, \n",
        "                        filters=5, \n",
        "                        kernel_size=1, \n",
        "                        padding='valid', \n",
        "                        activation='relu')\n",
        "cnn1_pool = tf.math.reduce_max(cnn1, axis=2)\n",
        "cnn1_final = tf.reshape(cnn1_pool, shape=(BATCH_SIZE, -1, 2))\n",
        "\n",
        "\n",
        "cnn2 = tf.layers.conv1d(inputs=cnn1_final, \n",
        "                        filters=5,\n",
        "                        kernel_size=1, \n",
        "                        padding='valid', \n",
        "                        activation='relu')\n",
        "cnn2_pool  = tf.math.reduce_max(cnn2, axis=2)\n",
        "cnn2_final = tf.reshape(cnn2_pool, shape=(BATCH_SIZE, -1, 2))\n",
        "\n",
        "cnn3 = tf.layers.conv1d(inputs=cnn2_final, \n",
        "                        filters=5, \n",
        "                        kernel_size=1, \n",
        "                        padding='valid', \n",
        "                        activation='relu')\n",
        "cnn3_pool = tf.math.reduce_max(cnn3, axis=2)\n",
        "cnn3_final = tf.reshape(cnn3_pool, shape=(BATCH_SIZE, -1, 2))\n",
        "\n",
        "cnn4 = tf.layers.conv1d(inputs=cnn3_final, \n",
        "                        filters=5, \n",
        "                        kernel_size=1, \n",
        "                        padding='valid', \n",
        "                        activation=None)\n",
        "cnn4_pool = tf.math.reduce_max(cnn4, axis=2)\n",
        "cnn4_final = tf.reshape(cnn4_pool, shape=(BATCH_SIZE, 1))\n",
        "\n",
        "loss = tf.losses.mean_squared_error(cnn4_final, output_y)\n",
        "optimizer = tf.train.RMSPropOptimizer(0.05).minimize(loss)"
      ],
      "execution_count": 0,
      "outputs": []
    },
    {
      "metadata": {
        "id": "GQHP3-Lu-Nby",
        "colab_type": "text"
      },
      "cell_type": "markdown",
      "source": [
        "## Training Batch Generation"
      ]
    },
    {
      "metadata": {
        "id": "j1a9z7wN-KIU",
        "colab_type": "code",
        "colab": {}
      },
      "cell_type": "code",
      "source": [
        "import random\n",
        "\n",
        "def next_batch(train_X, train_Y):\n",
        "    x_examples = []\n",
        "    y_examples = []\n",
        "    for i in range(BATCH_SIZE):\n",
        "        idx = random.randint(0, len(train_X) - 1 - SEQ_LENGTH)\n",
        "        x_examples.append(train_X[idx : idx + SEQ_LENGTH])\n",
        "        y_examples.append([train_Y[idx + SEQ_LENGTH]])\n",
        "    return x_examples, y_examples\n",
        "\n",
        "X_batch, Y_batch = next_batch(train_Y, train_Y)\n"
      ],
      "execution_count": 0,
      "outputs": []
    },
    {
      "metadata": {
        "id": "a7CWGxzI-QWf",
        "colab_type": "text"
      },
      "cell_type": "markdown",
      "source": [
        "## Training"
      ]
    },
    {
      "metadata": {
        "id": "uGGmwCgg-QHQ",
        "colab_type": "code",
        "colab": {}
      },
      "cell_type": "code",
      "source": [
        "sess = tf.Session()\n",
        "sess.run(tf.initializers.global_variables())"
      ],
      "execution_count": 0,
      "outputs": []
    },
    {
      "metadata": {
        "id": "oDjaAZSEBMu6",
        "colab_type": "code",
        "outputId": "8d7e0694-e0d9-4495-b113-5374d4f75c75",
        "colab": {
          "base_uri": "https://localhost:8080/",
          "height": 697
        }
      },
      "cell_type": "code",
      "source": [
        "\n",
        "for i in range(20000):\n",
        "    X_batch, Y_batch = next_batch(train_Y, train_Y)\n",
        "    _, loss_ = sess.run([optimizer, loss], feed_dict = {\n",
        "        input_x : X_batch,\n",
        "        output_y: Y_batch\n",
        "    })\n",
        "\n",
        "    if i % 500 == 0:\n",
        "        print(i, loss_)\n"
      ],
      "execution_count": 0,
      "outputs": [
        {
          "output_type": "stream",
          "text": [
            "0 2.874125\n",
            "500 0.04133728\n",
            "1000 0.44666186\n",
            "1500 0.31003013\n",
            "2000 0.23206449\n",
            "2500 0.29815748\n",
            "3000 0.23383564\n",
            "3500 0.30260247\n",
            "4000 0.2984502\n",
            "4500 0.27690643\n",
            "5000 0.20199585\n",
            "5500 0.063968986\n",
            "6000 0.2686089\n",
            "6500 0.2415679\n",
            "7000 0.039913144\n",
            "7500 0.16923909\n",
            "8000 0.32776877\n",
            "8500 0.19135521\n",
            "9000 1.0373476\n",
            "9500 0.26874194\n",
            "10000 0.28407088\n",
            "10500 0.19270545\n",
            "11000 0.35711935\n",
            "11500 0.17627761\n",
            "12000 0.24695367\n",
            "12500 0.17796656\n",
            "13000 0.2156141\n",
            "13500 0.8316065\n",
            "14000 0.16081803\n",
            "14500 0.20515765\n",
            "15000 0.036424696\n",
            "15500 0.35932955\n",
            "16000 0.24514651\n",
            "16500 0.246298\n",
            "17000 0.18604651\n",
            "17500 0.33441824\n",
            "18000 0.17071009\n",
            "18500 0.27542612\n",
            "19000 0.2835911\n",
            "19500 0.16564159\n"
          ],
          "name": "stdout"
        }
      ]
    },
    {
      "metadata": {
        "id": "9x0E9OMtAdEu",
        "colab_type": "code",
        "outputId": "15df44d0-6081-4200-ae55-6eaf175b7396",
        "colab": {
          "base_uri": "https://localhost:8080/",
          "height": 347
        }
      },
      "cell_type": "code",
      "source": [
        "# Test\n",
        "\n",
        "final_pred_Y = []\n",
        "\n",
        "X_batch = []\n",
        "for i in range(BATCH_SIZE - SEQ_LENGTH):\n",
        "    X = test_Y[i: i+SEQ_LENGTH]\n",
        "    X_batch.append(X)\n",
        "\n",
        "for i in range(SEQ_LENGTH):\n",
        "    X_batch.append([0 for i in range(SEQ_LENGTH)])\n",
        "\n",
        "\n",
        "Y_true  = test_Y\n",
        "Y_pred  = sess.run([cnn4_final], feed_dict = {\n",
        "    input_x : X_batch\n",
        "})\n",
        "\n",
        "plt.plot(test_X, Y_true, label='True')\n",
        "plt.plot(test_X, Y_pred[0], label='Pred')\n",
        "plt.legend()\n",
        "plt.show()\n"
      ],
      "execution_count": 0,
      "outputs": [
        {
          "output_type": "display_data",
          "data": {
            "image/png": "[encoded data removed]",
            "text/plain": [
              "<Figure size 576x396 with 1 Axes>"
            ]
          },
          "metadata": {
            "tags": []
          }
        }
      ]
    }
  ]
}